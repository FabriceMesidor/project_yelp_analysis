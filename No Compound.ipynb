{
 "cells": [
  {
   "cell_type": "code",
   "execution_count": 4,
   "metadata": {
    "collapsed": true
   },
   "outputs": [
    {
     "name": "stdout",
     "output_type": "stream",
     "text": [
      "Collecting vaderSentiment\n",
      "\u001b[?25l  Downloading https://files.pythonhosted.org/packages/86/9e/c53e1fc61aac5ee490a6ac5e21b1ac04e55a7c2aba647bb8411c9aadf24e/vaderSentiment-3.2.1-py2.py3-none-any.whl (125kB)\n",
      "\u001b[K     |████████████████████████████████| 133kB 2.5MB/s eta 0:00:01\n",
      "\u001b[?25hInstalling collected packages: vaderSentiment\n",
      "Successfully installed vaderSentiment-3.2.1\n"
     ]
    }
   ],
   "source": [
    "!pip install vaderSentiment"
   ]
  },
  {
   "cell_type": "markdown",
   "metadata": {},
   "source": [
    "###  Getting Database"
   ]
  },
  {
   "cell_type": "code",
   "execution_count": 22,
   "metadata": {},
   "outputs": [],
   "source": [
    "import pandas as pd\n",
    "import matplotlib.pyplot as plt\n",
    "from tqdm import tqdm\n",
    "import nltk\n",
    "from nltk.tokenize import word_tokenize, sent_tokenize\n",
    "from vaderSentiment import vaderSentiment as vader \n",
    "from vaderSentiment.vaderSentiment import SentimentIntensityAnalyzer\n",
    "pd.options.display.max_columns = 999\n",
    "from imblearn.over_sampling import SMOTE\n",
    "import numpy as np\n",
    "import sklearn\n",
    " \n",
    "from sklearn import preprocessing\n",
    "from sklearn import utils\n",
    "from sklearn.linear_model import LogisticRegression\n",
    "from sklearn.ensemble import BaggingClassifier, RandomForestClassifier"
   ]
  },
  {
   "cell_type": "code",
   "execution_count": 82,
   "metadata": {},
   "outputs": [],
   "source": [
    "df = pd.read_csv('vaderized2.csv',index_col=0)"
   ]
  },
  {
   "cell_type": "code",
   "execution_count": 17,
   "metadata": {
    "scrolled": true
   },
   "outputs": [],
   "source": [
    "labels = pd.read_csv('labels.csv',index_col=0)"
   ]
  },
  {
   "cell_type": "code",
   "execution_count": 18,
   "metadata": {
    "scrolled": true
   },
   "outputs": [
    {
     "data": {
      "text/html": [
       "<div>\n",
       "<style scoped>\n",
       "    .dataframe tbody tr th:only-of-type {\n",
       "        vertical-align: middle;\n",
       "    }\n",
       "\n",
       "    .dataframe tbody tr th {\n",
       "        vertical-align: top;\n",
       "    }\n",
       "\n",
       "    .dataframe thead th {\n",
       "        text-align: right;\n",
       "    }\n",
       "</style>\n",
       "<table border=\"1\" class=\"dataframe\">\n",
       "  <thead>\n",
       "    <tr style=\"text-align: right;\">\n",
       "      <th></th>\n",
       "      <th>price</th>\n",
       "      <th>neg1</th>\n",
       "      <th>neu1</th>\n",
       "      <th>pos1</th>\n",
       "      <th>compound1</th>\n",
       "      <th>neg2</th>\n",
       "      <th>neu2</th>\n",
       "      <th>pos2</th>\n",
       "      <th>compound2</th>\n",
       "      <th>neg3</th>\n",
       "      <th>neu3</th>\n",
       "      <th>pos3</th>\n",
       "      <th>compound3</th>\n",
       "      <th>neg4</th>\n",
       "      <th>neu4</th>\n",
       "      <th>pos4</th>\n",
       "      <th>compound4</th>\n",
       "      <th>neg5</th>\n",
       "      <th>neu5</th>\n",
       "      <th>pos5</th>\n",
       "      <th>compound5</th>\n",
       "      <th>neg6</th>\n",
       "      <th>neu6</th>\n",
       "      <th>pos6</th>\n",
       "      <th>compound6</th>\n",
       "      <th>neg7</th>\n",
       "      <th>neu7</th>\n",
       "      <th>pos7</th>\n",
       "      <th>compound7</th>\n",
       "      <th>neg8</th>\n",
       "      <th>neu8</th>\n",
       "      <th>pos8</th>\n",
       "      <th>compound8</th>\n",
       "      <th>neg9</th>\n",
       "      <th>neu9</th>\n",
       "      <th>pos9</th>\n",
       "      <th>compound9</th>\n",
       "      <th>neg10</th>\n",
       "      <th>neu10</th>\n",
       "      <th>pos10</th>\n",
       "      <th>compound10</th>\n",
       "      <th>neg11</th>\n",
       "      <th>neu11</th>\n",
       "      <th>pos11</th>\n",
       "      <th>compound11</th>\n",
       "      <th>neg12</th>\n",
       "      <th>neu12</th>\n",
       "      <th>pos12</th>\n",
       "      <th>compound12</th>\n",
       "      <th>neg13</th>\n",
       "      <th>neu13</th>\n",
       "      <th>pos13</th>\n",
       "      <th>compound13</th>\n",
       "      <th>neg14</th>\n",
       "      <th>neu14</th>\n",
       "      <th>pos14</th>\n",
       "      <th>compound14</th>\n",
       "      <th>neg15</th>\n",
       "      <th>neu15</th>\n",
       "      <th>pos15</th>\n",
       "      <th>compound15</th>\n",
       "      <th>neg16</th>\n",
       "      <th>neu16</th>\n",
       "      <th>pos16</th>\n",
       "      <th>compound16</th>\n",
       "      <th>neg17</th>\n",
       "      <th>neu17</th>\n",
       "      <th>pos17</th>\n",
       "      <th>compound17</th>\n",
       "      <th>neg18</th>\n",
       "      <th>neu18</th>\n",
       "      <th>pos18</th>\n",
       "      <th>compound18</th>\n",
       "      <th>neg19</th>\n",
       "      <th>neu19</th>\n",
       "      <th>pos19</th>\n",
       "      <th>compound19</th>\n",
       "      <th>neg20</th>\n",
       "      <th>neu20</th>\n",
       "      <th>pos20</th>\n",
       "      <th>compound20</th>\n",
       "    </tr>\n",
       "  </thead>\n",
       "  <tbody>\n",
       "    <tr>\n",
       "      <th>0</th>\n",
       "      <td>2</td>\n",
       "      <td>0.000</td>\n",
       "      <td>0.747</td>\n",
       "      <td>0.253</td>\n",
       "      <td>0.9652</td>\n",
       "      <td>0.000</td>\n",
       "      <td>0.692</td>\n",
       "      <td>0.308</td>\n",
       "      <td>0.9806</td>\n",
       "      <td>0.000</td>\n",
       "      <td>0.777</td>\n",
       "      <td>0.223</td>\n",
       "      <td>0.9862</td>\n",
       "      <td>0.085</td>\n",
       "      <td>0.769</td>\n",
       "      <td>0.146</td>\n",
       "      <td>0.9573</td>\n",
       "      <td>0.068</td>\n",
       "      <td>0.881</td>\n",
       "      <td>0.051</td>\n",
       "      <td>-0.3834</td>\n",
       "      <td>0.030</td>\n",
       "      <td>0.765</td>\n",
       "      <td>0.205</td>\n",
       "      <td>0.9814</td>\n",
       "      <td>0.033</td>\n",
       "      <td>0.585</td>\n",
       "      <td>0.381</td>\n",
       "      <td>0.9775</td>\n",
       "      <td>0.035</td>\n",
       "      <td>0.785</td>\n",
       "      <td>0.180</td>\n",
       "      <td>0.9928</td>\n",
       "      <td>0.051</td>\n",
       "      <td>0.732</td>\n",
       "      <td>0.217</td>\n",
       "      <td>0.9900</td>\n",
       "      <td>0.035</td>\n",
       "      <td>0.458</td>\n",
       "      <td>0.507</td>\n",
       "      <td>0.9833</td>\n",
       "      <td>0.021</td>\n",
       "      <td>0.722</td>\n",
       "      <td>0.257</td>\n",
       "      <td>0.9794</td>\n",
       "      <td>0.014</td>\n",
       "      <td>0.709</td>\n",
       "      <td>0.276</td>\n",
       "      <td>0.9989</td>\n",
       "      <td>0.000</td>\n",
       "      <td>0.826</td>\n",
       "      <td>0.174</td>\n",
       "      <td>0.9723</td>\n",
       "      <td>0.000</td>\n",
       "      <td>0.584</td>\n",
       "      <td>0.416</td>\n",
       "      <td>0.9899</td>\n",
       "      <td>0.030</td>\n",
       "      <td>0.735</td>\n",
       "      <td>0.234</td>\n",
       "      <td>0.9989</td>\n",
       "      <td>0.021</td>\n",
       "      <td>0.783</td>\n",
       "      <td>0.195</td>\n",
       "      <td>0.9817</td>\n",
       "      <td>0.023</td>\n",
       "      <td>0.820</td>\n",
       "      <td>0.157</td>\n",
       "      <td>0.8908</td>\n",
       "      <td>0.025</td>\n",
       "      <td>0.861</td>\n",
       "      <td>0.114</td>\n",
       "      <td>0.9166</td>\n",
       "      <td>0.035</td>\n",
       "      <td>0.754</td>\n",
       "      <td>0.211</td>\n",
       "      <td>0.9978</td>\n",
       "      <td>0.052</td>\n",
       "      <td>0.776</td>\n",
       "      <td>0.172</td>\n",
       "      <td>0.9914</td>\n",
       "    </tr>\n",
       "    <tr>\n",
       "      <th>1</th>\n",
       "      <td>2</td>\n",
       "      <td>0.019</td>\n",
       "      <td>0.736</td>\n",
       "      <td>0.244</td>\n",
       "      <td>0.9762</td>\n",
       "      <td>0.038</td>\n",
       "      <td>0.734</td>\n",
       "      <td>0.228</td>\n",
       "      <td>0.9965</td>\n",
       "      <td>0.028</td>\n",
       "      <td>0.695</td>\n",
       "      <td>0.277</td>\n",
       "      <td>0.9956</td>\n",
       "      <td>0.000</td>\n",
       "      <td>0.557</td>\n",
       "      <td>0.443</td>\n",
       "      <td>0.9787</td>\n",
       "      <td>0.062</td>\n",
       "      <td>0.606</td>\n",
       "      <td>0.332</td>\n",
       "      <td>0.9765</td>\n",
       "      <td>0.078</td>\n",
       "      <td>0.743</td>\n",
       "      <td>0.179</td>\n",
       "      <td>0.9337</td>\n",
       "      <td>0.000</td>\n",
       "      <td>0.802</td>\n",
       "      <td>0.198</td>\n",
       "      <td>0.9950</td>\n",
       "      <td>0.000</td>\n",
       "      <td>0.836</td>\n",
       "      <td>0.164</td>\n",
       "      <td>0.9230</td>\n",
       "      <td>0.000</td>\n",
       "      <td>0.674</td>\n",
       "      <td>0.326</td>\n",
       "      <td>0.9789</td>\n",
       "      <td>0.031</td>\n",
       "      <td>0.738</td>\n",
       "      <td>0.231</td>\n",
       "      <td>0.8126</td>\n",
       "      <td>0.074</td>\n",
       "      <td>0.594</td>\n",
       "      <td>0.332</td>\n",
       "      <td>0.9956</td>\n",
       "      <td>0.020</td>\n",
       "      <td>0.702</td>\n",
       "      <td>0.278</td>\n",
       "      <td>0.9648</td>\n",
       "      <td>0.000</td>\n",
       "      <td>0.687</td>\n",
       "      <td>0.313</td>\n",
       "      <td>0.9753</td>\n",
       "      <td>0.021</td>\n",
       "      <td>0.627</td>\n",
       "      <td>0.352</td>\n",
       "      <td>0.9973</td>\n",
       "      <td>0.048</td>\n",
       "      <td>0.797</td>\n",
       "      <td>0.155</td>\n",
       "      <td>0.9277</td>\n",
       "      <td>0.040</td>\n",
       "      <td>0.770</td>\n",
       "      <td>0.190</td>\n",
       "      <td>0.9796</td>\n",
       "      <td>0.021</td>\n",
       "      <td>0.711</td>\n",
       "      <td>0.268</td>\n",
       "      <td>0.9938</td>\n",
       "      <td>0.000</td>\n",
       "      <td>0.599</td>\n",
       "      <td>0.401</td>\n",
       "      <td>0.9406</td>\n",
       "      <td>0.000</td>\n",
       "      <td>0.765</td>\n",
       "      <td>0.235</td>\n",
       "      <td>0.9861</td>\n",
       "      <td>0.049</td>\n",
       "      <td>0.802</td>\n",
       "      <td>0.149</td>\n",
       "      <td>0.9490</td>\n",
       "    </tr>\n",
       "    <tr>\n",
       "      <th>2</th>\n",
       "      <td>2</td>\n",
       "      <td>0.033</td>\n",
       "      <td>0.858</td>\n",
       "      <td>0.110</td>\n",
       "      <td>0.9504</td>\n",
       "      <td>0.035</td>\n",
       "      <td>0.755</td>\n",
       "      <td>0.210</td>\n",
       "      <td>0.9966</td>\n",
       "      <td>0.013</td>\n",
       "      <td>0.835</td>\n",
       "      <td>0.152</td>\n",
       "      <td>0.9153</td>\n",
       "      <td>0.040</td>\n",
       "      <td>0.811</td>\n",
       "      <td>0.149</td>\n",
       "      <td>0.8979</td>\n",
       "      <td>0.040</td>\n",
       "      <td>0.826</td>\n",
       "      <td>0.133</td>\n",
       "      <td>0.8348</td>\n",
       "      <td>0.010</td>\n",
       "      <td>0.756</td>\n",
       "      <td>0.233</td>\n",
       "      <td>0.9978</td>\n",
       "      <td>0.069</td>\n",
       "      <td>0.705</td>\n",
       "      <td>0.227</td>\n",
       "      <td>0.9559</td>\n",
       "      <td>0.011</td>\n",
       "      <td>0.864</td>\n",
       "      <td>0.124</td>\n",
       "      <td>0.8731</td>\n",
       "      <td>0.000</td>\n",
       "      <td>0.884</td>\n",
       "      <td>0.116</td>\n",
       "      <td>0.4404</td>\n",
       "      <td>0.026</td>\n",
       "      <td>0.810</td>\n",
       "      <td>0.164</td>\n",
       "      <td>0.9975</td>\n",
       "      <td>0.055</td>\n",
       "      <td>0.810</td>\n",
       "      <td>0.135</td>\n",
       "      <td>0.8935</td>\n",
       "      <td>0.039</td>\n",
       "      <td>0.769</td>\n",
       "      <td>0.192</td>\n",
       "      <td>0.9866</td>\n",
       "      <td>0.024</td>\n",
       "      <td>0.842</td>\n",
       "      <td>0.134</td>\n",
       "      <td>0.9451</td>\n",
       "      <td>0.015</td>\n",
       "      <td>0.791</td>\n",
       "      <td>0.195</td>\n",
       "      <td>0.9781</td>\n",
       "      <td>0.034</td>\n",
       "      <td>0.795</td>\n",
       "      <td>0.171</td>\n",
       "      <td>0.9542</td>\n",
       "      <td>0.044</td>\n",
       "      <td>0.793</td>\n",
       "      <td>0.164</td>\n",
       "      <td>0.9708</td>\n",
       "      <td>0.000</td>\n",
       "      <td>0.640</td>\n",
       "      <td>0.360</td>\n",
       "      <td>0.8402</td>\n",
       "      <td>0.006</td>\n",
       "      <td>0.771</td>\n",
       "      <td>0.222</td>\n",
       "      <td>0.9888</td>\n",
       "      <td>0.094</td>\n",
       "      <td>0.704</td>\n",
       "      <td>0.203</td>\n",
       "      <td>0.4186</td>\n",
       "      <td>0.000</td>\n",
       "      <td>0.844</td>\n",
       "      <td>0.156</td>\n",
       "      <td>0.9758</td>\n",
       "    </tr>\n",
       "    <tr>\n",
       "      <th>3</th>\n",
       "      <td>2</td>\n",
       "      <td>0.000</td>\n",
       "      <td>0.471</td>\n",
       "      <td>0.529</td>\n",
       "      <td>0.9583</td>\n",
       "      <td>0.017</td>\n",
       "      <td>0.699</td>\n",
       "      <td>0.283</td>\n",
       "      <td>0.9920</td>\n",
       "      <td>0.000</td>\n",
       "      <td>0.667</td>\n",
       "      <td>0.333</td>\n",
       "      <td>0.9866</td>\n",
       "      <td>0.056</td>\n",
       "      <td>0.790</td>\n",
       "      <td>0.154</td>\n",
       "      <td>0.9360</td>\n",
       "      <td>0.034</td>\n",
       "      <td>0.890</td>\n",
       "      <td>0.077</td>\n",
       "      <td>0.5079</td>\n",
       "      <td>0.058</td>\n",
       "      <td>0.792</td>\n",
       "      <td>0.150</td>\n",
       "      <td>0.9700</td>\n",
       "      <td>0.016</td>\n",
       "      <td>0.808</td>\n",
       "      <td>0.176</td>\n",
       "      <td>0.9692</td>\n",
       "      <td>0.019</td>\n",
       "      <td>0.828</td>\n",
       "      <td>0.153</td>\n",
       "      <td>0.9810</td>\n",
       "      <td>0.067</td>\n",
       "      <td>0.672</td>\n",
       "      <td>0.261</td>\n",
       "      <td>0.8951</td>\n",
       "      <td>0.063</td>\n",
       "      <td>0.821</td>\n",
       "      <td>0.116</td>\n",
       "      <td>0.9189</td>\n",
       "      <td>0.039</td>\n",
       "      <td>0.868</td>\n",
       "      <td>0.093</td>\n",
       "      <td>0.7996</td>\n",
       "      <td>0.028</td>\n",
       "      <td>0.874</td>\n",
       "      <td>0.098</td>\n",
       "      <td>0.9329</td>\n",
       "      <td>0.020</td>\n",
       "      <td>0.704</td>\n",
       "      <td>0.277</td>\n",
       "      <td>0.9898</td>\n",
       "      <td>0.080</td>\n",
       "      <td>0.777</td>\n",
       "      <td>0.143</td>\n",
       "      <td>0.8545</td>\n",
       "      <td>0.000</td>\n",
       "      <td>0.542</td>\n",
       "      <td>0.458</td>\n",
       "      <td>0.9451</td>\n",
       "      <td>0.030</td>\n",
       "      <td>0.809</td>\n",
       "      <td>0.161</td>\n",
       "      <td>0.8551</td>\n",
       "      <td>0.156</td>\n",
       "      <td>0.655</td>\n",
       "      <td>0.189</td>\n",
       "      <td>0.0926</td>\n",
       "      <td>0.094</td>\n",
       "      <td>0.855</td>\n",
       "      <td>0.051</td>\n",
       "      <td>-0.5517</td>\n",
       "      <td>0.000</td>\n",
       "      <td>0.771</td>\n",
       "      <td>0.229</td>\n",
       "      <td>0.9792</td>\n",
       "      <td>0.013</td>\n",
       "      <td>0.833</td>\n",
       "      <td>0.154</td>\n",
       "      <td>0.9831</td>\n",
       "    </tr>\n",
       "    <tr>\n",
       "      <th>4</th>\n",
       "      <td>2</td>\n",
       "      <td>0.000</td>\n",
       "      <td>0.644</td>\n",
       "      <td>0.356</td>\n",
       "      <td>0.9371</td>\n",
       "      <td>0.000</td>\n",
       "      <td>0.685</td>\n",
       "      <td>0.315</td>\n",
       "      <td>0.9705</td>\n",
       "      <td>0.046</td>\n",
       "      <td>0.895</td>\n",
       "      <td>0.058</td>\n",
       "      <td>0.3862</td>\n",
       "      <td>0.018</td>\n",
       "      <td>0.822</td>\n",
       "      <td>0.160</td>\n",
       "      <td>0.9836</td>\n",
       "      <td>0.046</td>\n",
       "      <td>0.801</td>\n",
       "      <td>0.153</td>\n",
       "      <td>0.9640</td>\n",
       "      <td>0.074</td>\n",
       "      <td>0.741</td>\n",
       "      <td>0.186</td>\n",
       "      <td>0.9748</td>\n",
       "      <td>0.037</td>\n",
       "      <td>0.718</td>\n",
       "      <td>0.245</td>\n",
       "      <td>0.9682</td>\n",
       "      <td>0.100</td>\n",
       "      <td>0.808</td>\n",
       "      <td>0.092</td>\n",
       "      <td>0.3369</td>\n",
       "      <td>0.023</td>\n",
       "      <td>0.732</td>\n",
       "      <td>0.245</td>\n",
       "      <td>0.9841</td>\n",
       "      <td>0.030</td>\n",
       "      <td>0.698</td>\n",
       "      <td>0.272</td>\n",
       "      <td>0.9960</td>\n",
       "      <td>0.000</td>\n",
       "      <td>0.828</td>\n",
       "      <td>0.172</td>\n",
       "      <td>0.7750</td>\n",
       "      <td>0.000</td>\n",
       "      <td>0.830</td>\n",
       "      <td>0.170</td>\n",
       "      <td>0.9863</td>\n",
       "      <td>0.008</td>\n",
       "      <td>0.830</td>\n",
       "      <td>0.162</td>\n",
       "      <td>0.9748</td>\n",
       "      <td>0.016</td>\n",
       "      <td>0.758</td>\n",
       "      <td>0.225</td>\n",
       "      <td>0.9859</td>\n",
       "      <td>0.044</td>\n",
       "      <td>0.678</td>\n",
       "      <td>0.278</td>\n",
       "      <td>0.9484</td>\n",
       "      <td>0.020</td>\n",
       "      <td>0.785</td>\n",
       "      <td>0.194</td>\n",
       "      <td>0.9407</td>\n",
       "      <td>0.025</td>\n",
       "      <td>0.792</td>\n",
       "      <td>0.183</td>\n",
       "      <td>0.9612</td>\n",
       "      <td>0.021</td>\n",
       "      <td>0.829</td>\n",
       "      <td>0.150</td>\n",
       "      <td>0.9868</td>\n",
       "      <td>0.061</td>\n",
       "      <td>0.829</td>\n",
       "      <td>0.110</td>\n",
       "      <td>0.5499</td>\n",
       "      <td>0.000</td>\n",
       "      <td>0.668</td>\n",
       "      <td>0.332</td>\n",
       "      <td>0.9423</td>\n",
       "    </tr>\n",
       "  </tbody>\n",
       "</table>\n",
       "</div>"
      ],
      "text/plain": [
       "   price   neg1   neu1   pos1  compound1   neg2   neu2   pos2  compound2  \\\n",
       "0      2  0.000  0.747  0.253     0.9652  0.000  0.692  0.308     0.9806   \n",
       "1      2  0.019  0.736  0.244     0.9762  0.038  0.734  0.228     0.9965   \n",
       "2      2  0.033  0.858  0.110     0.9504  0.035  0.755  0.210     0.9966   \n",
       "3      2  0.000  0.471  0.529     0.9583  0.017  0.699  0.283     0.9920   \n",
       "4      2  0.000  0.644  0.356     0.9371  0.000  0.685  0.315     0.9705   \n",
       "\n",
       "    neg3   neu3   pos3  compound3   neg4   neu4   pos4  compound4   neg5  \\\n",
       "0  0.000  0.777  0.223     0.9862  0.085  0.769  0.146     0.9573  0.068   \n",
       "1  0.028  0.695  0.277     0.9956  0.000  0.557  0.443     0.9787  0.062   \n",
       "2  0.013  0.835  0.152     0.9153  0.040  0.811  0.149     0.8979  0.040   \n",
       "3  0.000  0.667  0.333     0.9866  0.056  0.790  0.154     0.9360  0.034   \n",
       "4  0.046  0.895  0.058     0.3862  0.018  0.822  0.160     0.9836  0.046   \n",
       "\n",
       "    neu5   pos5  compound5   neg6   neu6   pos6  compound6   neg7   neu7  \\\n",
       "0  0.881  0.051    -0.3834  0.030  0.765  0.205     0.9814  0.033  0.585   \n",
       "1  0.606  0.332     0.9765  0.078  0.743  0.179     0.9337  0.000  0.802   \n",
       "2  0.826  0.133     0.8348  0.010  0.756  0.233     0.9978  0.069  0.705   \n",
       "3  0.890  0.077     0.5079  0.058  0.792  0.150     0.9700  0.016  0.808   \n",
       "4  0.801  0.153     0.9640  0.074  0.741  0.186     0.9748  0.037  0.718   \n",
       "\n",
       "    pos7  compound7   neg8   neu8   pos8  compound8   neg9   neu9   pos9  \\\n",
       "0  0.381     0.9775  0.035  0.785  0.180     0.9928  0.051  0.732  0.217   \n",
       "1  0.198     0.9950  0.000  0.836  0.164     0.9230  0.000  0.674  0.326   \n",
       "2  0.227     0.9559  0.011  0.864  0.124     0.8731  0.000  0.884  0.116   \n",
       "3  0.176     0.9692  0.019  0.828  0.153     0.9810  0.067  0.672  0.261   \n",
       "4  0.245     0.9682  0.100  0.808  0.092     0.3369  0.023  0.732  0.245   \n",
       "\n",
       "   compound9  neg10  neu10  pos10  compound10  neg11  neu11  pos11  \\\n",
       "0     0.9900  0.035  0.458  0.507      0.9833  0.021  0.722  0.257   \n",
       "1     0.9789  0.031  0.738  0.231      0.8126  0.074  0.594  0.332   \n",
       "2     0.4404  0.026  0.810  0.164      0.9975  0.055  0.810  0.135   \n",
       "3     0.8951  0.063  0.821  0.116      0.9189  0.039  0.868  0.093   \n",
       "4     0.9841  0.030  0.698  0.272      0.9960  0.000  0.828  0.172   \n",
       "\n",
       "   compound11  neg12  neu12  pos12  compound12  neg13  neu13  pos13  \\\n",
       "0      0.9794  0.014  0.709  0.276      0.9989  0.000  0.826  0.174   \n",
       "1      0.9956  0.020  0.702  0.278      0.9648  0.000  0.687  0.313   \n",
       "2      0.8935  0.039  0.769  0.192      0.9866  0.024  0.842  0.134   \n",
       "3      0.7996  0.028  0.874  0.098      0.9329  0.020  0.704  0.277   \n",
       "4      0.7750  0.000  0.830  0.170      0.9863  0.008  0.830  0.162   \n",
       "\n",
       "   compound13  neg14  neu14  pos14  compound14  neg15  neu15  pos15  \\\n",
       "0      0.9723  0.000  0.584  0.416      0.9899  0.030  0.735  0.234   \n",
       "1      0.9753  0.021  0.627  0.352      0.9973  0.048  0.797  0.155   \n",
       "2      0.9451  0.015  0.791  0.195      0.9781  0.034  0.795  0.171   \n",
       "3      0.9898  0.080  0.777  0.143      0.8545  0.000  0.542  0.458   \n",
       "4      0.9748  0.016  0.758  0.225      0.9859  0.044  0.678  0.278   \n",
       "\n",
       "   compound15  neg16  neu16  pos16  compound16  neg17  neu17  pos17  \\\n",
       "0      0.9989  0.021  0.783  0.195      0.9817  0.023  0.820  0.157   \n",
       "1      0.9277  0.040  0.770  0.190      0.9796  0.021  0.711  0.268   \n",
       "2      0.9542  0.044  0.793  0.164      0.9708  0.000  0.640  0.360   \n",
       "3      0.9451  0.030  0.809  0.161      0.8551  0.156  0.655  0.189   \n",
       "4      0.9484  0.020  0.785  0.194      0.9407  0.025  0.792  0.183   \n",
       "\n",
       "   compound17  neg18  neu18  pos18  compound18  neg19  neu19  pos19  \\\n",
       "0      0.8908  0.025  0.861  0.114      0.9166  0.035  0.754  0.211   \n",
       "1      0.9938  0.000  0.599  0.401      0.9406  0.000  0.765  0.235   \n",
       "2      0.8402  0.006  0.771  0.222      0.9888  0.094  0.704  0.203   \n",
       "3      0.0926  0.094  0.855  0.051     -0.5517  0.000  0.771  0.229   \n",
       "4      0.9612  0.021  0.829  0.150      0.9868  0.061  0.829  0.110   \n",
       "\n",
       "   compound19  neg20  neu20  pos20  compound20  \n",
       "0      0.9978  0.052  0.776  0.172      0.9914  \n",
       "1      0.9861  0.049  0.802  0.149      0.9490  \n",
       "2      0.4186  0.000  0.844  0.156      0.9758  \n",
       "3      0.9792  0.013  0.833  0.154      0.9831  \n",
       "4      0.5499  0.000  0.668  0.332      0.9423  "
      ]
     },
     "execution_count": 18,
     "metadata": {},
     "output_type": "execute_result"
    }
   ],
   "source": [
    "df.head()"
   ]
  },
  {
   "cell_type": "code",
   "execution_count": 19,
   "metadata": {
    "scrolled": true
   },
   "outputs": [
    {
     "data": {
      "text/html": [
       "<div>\n",
       "<style scoped>\n",
       "    .dataframe tbody tr th:only-of-type {\n",
       "        vertical-align: middle;\n",
       "    }\n",
       "\n",
       "    .dataframe tbody tr th {\n",
       "        vertical-align: top;\n",
       "    }\n",
       "\n",
       "    .dataframe thead th {\n",
       "        text-align: right;\n",
       "    }\n",
       "</style>\n",
       "<table border=\"1\" class=\"dataframe\">\n",
       "  <thead>\n",
       "    <tr style=\"text-align: right;\">\n",
       "      <th></th>\n",
       "      <th>rating</th>\n",
       "    </tr>\n",
       "  </thead>\n",
       "  <tbody>\n",
       "    <tr>\n",
       "      <th>0</th>\n",
       "      <td>1.0</td>\n",
       "    </tr>\n",
       "    <tr>\n",
       "      <th>1</th>\n",
       "      <td>1.0</td>\n",
       "    </tr>\n",
       "    <tr>\n",
       "      <th>2</th>\n",
       "      <td>1.0</td>\n",
       "    </tr>\n",
       "    <tr>\n",
       "      <th>3</th>\n",
       "      <td>0.0</td>\n",
       "    </tr>\n",
       "    <tr>\n",
       "      <th>4</th>\n",
       "      <td>0.0</td>\n",
       "    </tr>\n",
       "  </tbody>\n",
       "</table>\n",
       "</div>"
      ],
      "text/plain": [
       "   rating\n",
       "0     1.0\n",
       "1     1.0\n",
       "2     1.0\n",
       "3     0.0\n",
       "4     0.0"
      ]
     },
     "execution_count": 19,
     "metadata": {},
     "output_type": "execute_result"
    }
   ],
   "source": [
    "labels.head()"
   ]
  },
  {
   "cell_type": "markdown",
   "metadata": {
    "heading_collapsed": true
   },
   "source": [
    "### Don't use for now"
   ]
  },
  {
   "cell_type": "code",
   "execution_count": 22,
   "metadata": {
    "hidden": true
   },
   "outputs": [],
   "source": [
    "rva = ['review_'+ str(x+1) for x in range(20)]\n",
    "comps = ['compound'+ str(x+1) for x in range(20)]"
   ]
  },
  {
   "cell_type": "code",
   "execution_count": 25,
   "metadata": {
    "hidden": true
   },
   "outputs": [],
   "source": [
    "df.drop(columns=rva, inplace=True)"
   ]
  },
  {
   "cell_type": "code",
   "execution_count": 26,
   "metadata": {
    "hidden": true
   },
   "outputs": [],
   "source": [
    "\n",
    "df.drop(columns=comps, inplace=True)"
   ]
  },
  {
   "cell_type": "code",
   "execution_count": 27,
   "metadata": {
    "hidden": true
   },
   "outputs": [],
   "source": [
    "df.drop(columns=['Unnamed: 0'], inplace=True)"
   ]
  },
  {
   "cell_type": "code",
   "execution_count": 28,
   "metadata": {
    "hidden": true
   },
   "outputs": [
    {
     "data": {
      "text/html": [
       "<div>\n",
       "<style scoped>\n",
       "    .dataframe tbody tr th:only-of-type {\n",
       "        vertical-align: middle;\n",
       "    }\n",
       "\n",
       "    .dataframe tbody tr th {\n",
       "        vertical-align: top;\n",
       "    }\n",
       "\n",
       "    .dataframe thead th {\n",
       "        text-align: right;\n",
       "    }\n",
       "</style>\n",
       "<table border=\"1\" class=\"dataframe\">\n",
       "  <thead>\n",
       "    <tr style=\"text-align: right;\">\n",
       "      <th></th>\n",
       "      <th>neg1</th>\n",
       "      <th>neu1</th>\n",
       "      <th>pos1</th>\n",
       "      <th>neg2</th>\n",
       "      <th>neu2</th>\n",
       "      <th>pos2</th>\n",
       "      <th>neg3</th>\n",
       "      <th>neu3</th>\n",
       "      <th>pos3</th>\n",
       "      <th>neg4</th>\n",
       "      <th>neu4</th>\n",
       "      <th>pos4</th>\n",
       "      <th>neg5</th>\n",
       "      <th>neu5</th>\n",
       "      <th>pos5</th>\n",
       "      <th>neg6</th>\n",
       "      <th>neu6</th>\n",
       "      <th>pos6</th>\n",
       "      <th>neg7</th>\n",
       "      <th>neu7</th>\n",
       "      <th>pos7</th>\n",
       "      <th>neg8</th>\n",
       "      <th>neu8</th>\n",
       "      <th>pos8</th>\n",
       "      <th>neg9</th>\n",
       "      <th>neu9</th>\n",
       "      <th>pos9</th>\n",
       "      <th>neg10</th>\n",
       "      <th>neu10</th>\n",
       "      <th>pos10</th>\n",
       "      <th>neg11</th>\n",
       "      <th>neu11</th>\n",
       "      <th>pos11</th>\n",
       "      <th>neg12</th>\n",
       "      <th>neu12</th>\n",
       "      <th>pos12</th>\n",
       "      <th>neg13</th>\n",
       "      <th>neu13</th>\n",
       "      <th>pos13</th>\n",
       "      <th>neg14</th>\n",
       "      <th>neu14</th>\n",
       "      <th>pos14</th>\n",
       "      <th>neg15</th>\n",
       "      <th>neu15</th>\n",
       "      <th>pos15</th>\n",
       "      <th>neg16</th>\n",
       "      <th>neu16</th>\n",
       "      <th>pos16</th>\n",
       "      <th>neg17</th>\n",
       "      <th>neu17</th>\n",
       "      <th>pos17</th>\n",
       "      <th>neg18</th>\n",
       "      <th>neu18</th>\n",
       "      <th>pos18</th>\n",
       "      <th>neg19</th>\n",
       "      <th>neu19</th>\n",
       "      <th>pos19</th>\n",
       "      <th>neg20</th>\n",
       "      <th>neu20</th>\n",
       "      <th>pos20</th>\n",
       "    </tr>\n",
       "  </thead>\n",
       "  <tbody>\n",
       "    <tr>\n",
       "      <th>0</th>\n",
       "      <td>0.000</td>\n",
       "      <td>0.747</td>\n",
       "      <td>0.253</td>\n",
       "      <td>0.000</td>\n",
       "      <td>0.692</td>\n",
       "      <td>0.308</td>\n",
       "      <td>0.000</td>\n",
       "      <td>0.777</td>\n",
       "      <td>0.223</td>\n",
       "      <td>0.085</td>\n",
       "      <td>0.769</td>\n",
       "      <td>0.146</td>\n",
       "      <td>0.068</td>\n",
       "      <td>0.881</td>\n",
       "      <td>0.051</td>\n",
       "      <td>0.030</td>\n",
       "      <td>0.765</td>\n",
       "      <td>0.205</td>\n",
       "      <td>0.033</td>\n",
       "      <td>0.585</td>\n",
       "      <td>0.381</td>\n",
       "      <td>0.035</td>\n",
       "      <td>0.785</td>\n",
       "      <td>0.180</td>\n",
       "      <td>0.051</td>\n",
       "      <td>0.732</td>\n",
       "      <td>0.217</td>\n",
       "      <td>0.035</td>\n",
       "      <td>0.458</td>\n",
       "      <td>0.507</td>\n",
       "      <td>0.021</td>\n",
       "      <td>0.722</td>\n",
       "      <td>0.257</td>\n",
       "      <td>0.014</td>\n",
       "      <td>0.709</td>\n",
       "      <td>0.276</td>\n",
       "      <td>0.000</td>\n",
       "      <td>0.826</td>\n",
       "      <td>0.174</td>\n",
       "      <td>0.000</td>\n",
       "      <td>0.584</td>\n",
       "      <td>0.416</td>\n",
       "      <td>0.030</td>\n",
       "      <td>0.735</td>\n",
       "      <td>0.234</td>\n",
       "      <td>0.021</td>\n",
       "      <td>0.783</td>\n",
       "      <td>0.195</td>\n",
       "      <td>0.023</td>\n",
       "      <td>0.820</td>\n",
       "      <td>0.157</td>\n",
       "      <td>0.025</td>\n",
       "      <td>0.861</td>\n",
       "      <td>0.114</td>\n",
       "      <td>0.035</td>\n",
       "      <td>0.754</td>\n",
       "      <td>0.211</td>\n",
       "      <td>0.052</td>\n",
       "      <td>0.776</td>\n",
       "      <td>0.172</td>\n",
       "    </tr>\n",
       "    <tr>\n",
       "      <th>1</th>\n",
       "      <td>0.019</td>\n",
       "      <td>0.736</td>\n",
       "      <td>0.244</td>\n",
       "      <td>0.038</td>\n",
       "      <td>0.734</td>\n",
       "      <td>0.228</td>\n",
       "      <td>0.028</td>\n",
       "      <td>0.695</td>\n",
       "      <td>0.277</td>\n",
       "      <td>0.000</td>\n",
       "      <td>0.557</td>\n",
       "      <td>0.443</td>\n",
       "      <td>0.062</td>\n",
       "      <td>0.606</td>\n",
       "      <td>0.332</td>\n",
       "      <td>0.078</td>\n",
       "      <td>0.743</td>\n",
       "      <td>0.179</td>\n",
       "      <td>0.000</td>\n",
       "      <td>0.802</td>\n",
       "      <td>0.198</td>\n",
       "      <td>0.000</td>\n",
       "      <td>0.836</td>\n",
       "      <td>0.164</td>\n",
       "      <td>0.000</td>\n",
       "      <td>0.674</td>\n",
       "      <td>0.326</td>\n",
       "      <td>0.031</td>\n",
       "      <td>0.738</td>\n",
       "      <td>0.231</td>\n",
       "      <td>0.074</td>\n",
       "      <td>0.594</td>\n",
       "      <td>0.332</td>\n",
       "      <td>0.020</td>\n",
       "      <td>0.702</td>\n",
       "      <td>0.278</td>\n",
       "      <td>0.000</td>\n",
       "      <td>0.687</td>\n",
       "      <td>0.313</td>\n",
       "      <td>0.021</td>\n",
       "      <td>0.627</td>\n",
       "      <td>0.352</td>\n",
       "      <td>0.048</td>\n",
       "      <td>0.797</td>\n",
       "      <td>0.155</td>\n",
       "      <td>0.040</td>\n",
       "      <td>0.770</td>\n",
       "      <td>0.190</td>\n",
       "      <td>0.021</td>\n",
       "      <td>0.711</td>\n",
       "      <td>0.268</td>\n",
       "      <td>0.000</td>\n",
       "      <td>0.599</td>\n",
       "      <td>0.401</td>\n",
       "      <td>0.000</td>\n",
       "      <td>0.765</td>\n",
       "      <td>0.235</td>\n",
       "      <td>0.049</td>\n",
       "      <td>0.802</td>\n",
       "      <td>0.149</td>\n",
       "    </tr>\n",
       "    <tr>\n",
       "      <th>2</th>\n",
       "      <td>0.033</td>\n",
       "      <td>0.858</td>\n",
       "      <td>0.110</td>\n",
       "      <td>0.035</td>\n",
       "      <td>0.755</td>\n",
       "      <td>0.210</td>\n",
       "      <td>0.013</td>\n",
       "      <td>0.835</td>\n",
       "      <td>0.152</td>\n",
       "      <td>0.040</td>\n",
       "      <td>0.811</td>\n",
       "      <td>0.149</td>\n",
       "      <td>0.040</td>\n",
       "      <td>0.826</td>\n",
       "      <td>0.133</td>\n",
       "      <td>0.010</td>\n",
       "      <td>0.756</td>\n",
       "      <td>0.233</td>\n",
       "      <td>0.069</td>\n",
       "      <td>0.705</td>\n",
       "      <td>0.227</td>\n",
       "      <td>0.011</td>\n",
       "      <td>0.864</td>\n",
       "      <td>0.124</td>\n",
       "      <td>0.000</td>\n",
       "      <td>0.884</td>\n",
       "      <td>0.116</td>\n",
       "      <td>0.026</td>\n",
       "      <td>0.810</td>\n",
       "      <td>0.164</td>\n",
       "      <td>0.055</td>\n",
       "      <td>0.810</td>\n",
       "      <td>0.135</td>\n",
       "      <td>0.039</td>\n",
       "      <td>0.769</td>\n",
       "      <td>0.192</td>\n",
       "      <td>0.024</td>\n",
       "      <td>0.842</td>\n",
       "      <td>0.134</td>\n",
       "      <td>0.015</td>\n",
       "      <td>0.791</td>\n",
       "      <td>0.195</td>\n",
       "      <td>0.034</td>\n",
       "      <td>0.795</td>\n",
       "      <td>0.171</td>\n",
       "      <td>0.044</td>\n",
       "      <td>0.793</td>\n",
       "      <td>0.164</td>\n",
       "      <td>0.000</td>\n",
       "      <td>0.640</td>\n",
       "      <td>0.360</td>\n",
       "      <td>0.006</td>\n",
       "      <td>0.771</td>\n",
       "      <td>0.222</td>\n",
       "      <td>0.094</td>\n",
       "      <td>0.704</td>\n",
       "      <td>0.203</td>\n",
       "      <td>0.000</td>\n",
       "      <td>0.844</td>\n",
       "      <td>0.156</td>\n",
       "    </tr>\n",
       "    <tr>\n",
       "      <th>3</th>\n",
       "      <td>0.000</td>\n",
       "      <td>0.471</td>\n",
       "      <td>0.529</td>\n",
       "      <td>0.017</td>\n",
       "      <td>0.699</td>\n",
       "      <td>0.283</td>\n",
       "      <td>0.000</td>\n",
       "      <td>0.667</td>\n",
       "      <td>0.333</td>\n",
       "      <td>0.056</td>\n",
       "      <td>0.790</td>\n",
       "      <td>0.154</td>\n",
       "      <td>0.034</td>\n",
       "      <td>0.890</td>\n",
       "      <td>0.077</td>\n",
       "      <td>0.058</td>\n",
       "      <td>0.792</td>\n",
       "      <td>0.150</td>\n",
       "      <td>0.016</td>\n",
       "      <td>0.808</td>\n",
       "      <td>0.176</td>\n",
       "      <td>0.019</td>\n",
       "      <td>0.828</td>\n",
       "      <td>0.153</td>\n",
       "      <td>0.067</td>\n",
       "      <td>0.672</td>\n",
       "      <td>0.261</td>\n",
       "      <td>0.063</td>\n",
       "      <td>0.821</td>\n",
       "      <td>0.116</td>\n",
       "      <td>0.039</td>\n",
       "      <td>0.868</td>\n",
       "      <td>0.093</td>\n",
       "      <td>0.028</td>\n",
       "      <td>0.874</td>\n",
       "      <td>0.098</td>\n",
       "      <td>0.020</td>\n",
       "      <td>0.704</td>\n",
       "      <td>0.277</td>\n",
       "      <td>0.080</td>\n",
       "      <td>0.777</td>\n",
       "      <td>0.143</td>\n",
       "      <td>0.000</td>\n",
       "      <td>0.542</td>\n",
       "      <td>0.458</td>\n",
       "      <td>0.030</td>\n",
       "      <td>0.809</td>\n",
       "      <td>0.161</td>\n",
       "      <td>0.156</td>\n",
       "      <td>0.655</td>\n",
       "      <td>0.189</td>\n",
       "      <td>0.094</td>\n",
       "      <td>0.855</td>\n",
       "      <td>0.051</td>\n",
       "      <td>0.000</td>\n",
       "      <td>0.771</td>\n",
       "      <td>0.229</td>\n",
       "      <td>0.013</td>\n",
       "      <td>0.833</td>\n",
       "      <td>0.154</td>\n",
       "    </tr>\n",
       "    <tr>\n",
       "      <th>4</th>\n",
       "      <td>0.000</td>\n",
       "      <td>0.644</td>\n",
       "      <td>0.356</td>\n",
       "      <td>0.000</td>\n",
       "      <td>0.685</td>\n",
       "      <td>0.315</td>\n",
       "      <td>0.046</td>\n",
       "      <td>0.895</td>\n",
       "      <td>0.058</td>\n",
       "      <td>0.018</td>\n",
       "      <td>0.822</td>\n",
       "      <td>0.160</td>\n",
       "      <td>0.046</td>\n",
       "      <td>0.801</td>\n",
       "      <td>0.153</td>\n",
       "      <td>0.074</td>\n",
       "      <td>0.741</td>\n",
       "      <td>0.186</td>\n",
       "      <td>0.037</td>\n",
       "      <td>0.718</td>\n",
       "      <td>0.245</td>\n",
       "      <td>0.100</td>\n",
       "      <td>0.808</td>\n",
       "      <td>0.092</td>\n",
       "      <td>0.023</td>\n",
       "      <td>0.732</td>\n",
       "      <td>0.245</td>\n",
       "      <td>0.030</td>\n",
       "      <td>0.698</td>\n",
       "      <td>0.272</td>\n",
       "      <td>0.000</td>\n",
       "      <td>0.828</td>\n",
       "      <td>0.172</td>\n",
       "      <td>0.000</td>\n",
       "      <td>0.830</td>\n",
       "      <td>0.170</td>\n",
       "      <td>0.008</td>\n",
       "      <td>0.830</td>\n",
       "      <td>0.162</td>\n",
       "      <td>0.016</td>\n",
       "      <td>0.758</td>\n",
       "      <td>0.225</td>\n",
       "      <td>0.044</td>\n",
       "      <td>0.678</td>\n",
       "      <td>0.278</td>\n",
       "      <td>0.020</td>\n",
       "      <td>0.785</td>\n",
       "      <td>0.194</td>\n",
       "      <td>0.025</td>\n",
       "      <td>0.792</td>\n",
       "      <td>0.183</td>\n",
       "      <td>0.021</td>\n",
       "      <td>0.829</td>\n",
       "      <td>0.150</td>\n",
       "      <td>0.061</td>\n",
       "      <td>0.829</td>\n",
       "      <td>0.110</td>\n",
       "      <td>0.000</td>\n",
       "      <td>0.668</td>\n",
       "      <td>0.332</td>\n",
       "    </tr>\n",
       "  </tbody>\n",
       "</table>\n",
       "</div>"
      ],
      "text/plain": [
       "    neg1   neu1   pos1   neg2   neu2   pos2   neg3   neu3   pos3   neg4  \\\n",
       "0  0.000  0.747  0.253  0.000  0.692  0.308  0.000  0.777  0.223  0.085   \n",
       "1  0.019  0.736  0.244  0.038  0.734  0.228  0.028  0.695  0.277  0.000   \n",
       "2  0.033  0.858  0.110  0.035  0.755  0.210  0.013  0.835  0.152  0.040   \n",
       "3  0.000  0.471  0.529  0.017  0.699  0.283  0.000  0.667  0.333  0.056   \n",
       "4  0.000  0.644  0.356  0.000  0.685  0.315  0.046  0.895  0.058  0.018   \n",
       "\n",
       "    neu4   pos4   neg5   neu5   pos5   neg6   neu6   pos6   neg7   neu7  \\\n",
       "0  0.769  0.146  0.068  0.881  0.051  0.030  0.765  0.205  0.033  0.585   \n",
       "1  0.557  0.443  0.062  0.606  0.332  0.078  0.743  0.179  0.000  0.802   \n",
       "2  0.811  0.149  0.040  0.826  0.133  0.010  0.756  0.233  0.069  0.705   \n",
       "3  0.790  0.154  0.034  0.890  0.077  0.058  0.792  0.150  0.016  0.808   \n",
       "4  0.822  0.160  0.046  0.801  0.153  0.074  0.741  0.186  0.037  0.718   \n",
       "\n",
       "    pos7   neg8   neu8   pos8   neg9   neu9   pos9  neg10  neu10  pos10  \\\n",
       "0  0.381  0.035  0.785  0.180  0.051  0.732  0.217  0.035  0.458  0.507   \n",
       "1  0.198  0.000  0.836  0.164  0.000  0.674  0.326  0.031  0.738  0.231   \n",
       "2  0.227  0.011  0.864  0.124  0.000  0.884  0.116  0.026  0.810  0.164   \n",
       "3  0.176  0.019  0.828  0.153  0.067  0.672  0.261  0.063  0.821  0.116   \n",
       "4  0.245  0.100  0.808  0.092  0.023  0.732  0.245  0.030  0.698  0.272   \n",
       "\n",
       "   neg11  neu11  pos11  neg12  neu12  pos12  neg13  neu13  pos13  neg14  \\\n",
       "0  0.021  0.722  0.257  0.014  0.709  0.276  0.000  0.826  0.174  0.000   \n",
       "1  0.074  0.594  0.332  0.020  0.702  0.278  0.000  0.687  0.313  0.021   \n",
       "2  0.055  0.810  0.135  0.039  0.769  0.192  0.024  0.842  0.134  0.015   \n",
       "3  0.039  0.868  0.093  0.028  0.874  0.098  0.020  0.704  0.277  0.080   \n",
       "4  0.000  0.828  0.172  0.000  0.830  0.170  0.008  0.830  0.162  0.016   \n",
       "\n",
       "   neu14  pos14  neg15  neu15  pos15  neg16  neu16  pos16  neg17  neu17  \\\n",
       "0  0.584  0.416  0.030  0.735  0.234  0.021  0.783  0.195  0.023  0.820   \n",
       "1  0.627  0.352  0.048  0.797  0.155  0.040  0.770  0.190  0.021  0.711   \n",
       "2  0.791  0.195  0.034  0.795  0.171  0.044  0.793  0.164  0.000  0.640   \n",
       "3  0.777  0.143  0.000  0.542  0.458  0.030  0.809  0.161  0.156  0.655   \n",
       "4  0.758  0.225  0.044  0.678  0.278  0.020  0.785  0.194  0.025  0.792   \n",
       "\n",
       "   pos17  neg18  neu18  pos18  neg19  neu19  pos19  neg20  neu20  pos20  \n",
       "0  0.157  0.025  0.861  0.114  0.035  0.754  0.211  0.052  0.776  0.172  \n",
       "1  0.268  0.000  0.599  0.401  0.000  0.765  0.235  0.049  0.802  0.149  \n",
       "2  0.360  0.006  0.771  0.222  0.094  0.704  0.203  0.000  0.844  0.156  \n",
       "3  0.189  0.094  0.855  0.051  0.000  0.771  0.229  0.013  0.833  0.154  \n",
       "4  0.183  0.021  0.829  0.150  0.061  0.829  0.110  0.000  0.668  0.332  "
      ]
     },
     "execution_count": 28,
     "metadata": {},
     "output_type": "execute_result"
    }
   ],
   "source": [
    "df.head()"
   ]
  },
  {
   "cell_type": "code",
   "execution_count": 30,
   "metadata": {
    "hidden": true
   },
   "outputs": [],
   "source": [
    "labels.rating = labels.rating.replace({3.0: 0, 5.0: 1, 3.5: 0, 4.0: 0, 4.5: 1})"
   ]
  },
  {
   "cell_type": "code",
   "execution_count": 32,
   "metadata": {
    "hidden": true
   },
   "outputs": [
    {
     "data": {
      "text/plain": [
       "0.0    1067\n",
       "1.0     558\n",
       "Name: rating, dtype: int64"
      ]
     },
     "execution_count": 32,
     "metadata": {},
     "output_type": "execute_result"
    }
   ],
   "source": [
    "labels.rating.value_counts()"
   ]
  },
  {
   "cell_type": "code",
   "execution_count": 37,
   "metadata": {
    "hidden": true
   },
   "outputs": [],
   "source": [
    "labels.drop(columns=['Unnamed: 0'], inplace=True)"
   ]
  },
  {
   "cell_type": "markdown",
   "metadata": {},
   "source": [
    "### Running models"
   ]
  },
  {
   "cell_type": "code",
   "execution_count": 77,
   "metadata": {},
   "outputs": [],
   "source": [
    "#Function to create the correlation heatmap\n",
    "def CorrMtx(df, dropDuplicates = True):\n",
    "\n",
    "    # Exclude duplicate correlations by masking uper right values\n",
    "    if dropDuplicates:    \n",
    "        mask = np.zeros_like(df, dtype=np.bool)\n",
    "        mask[np.triu_indices_from(mask)] = True\n",
    "\n",
    "    # Set background color / chart style\n",
    "    sns.set_style(style = 'white')\n",
    "\n",
    "    # Set up  matplotlib figure\n",
    "    f, ax = plt.subplots(figsize=(20, 10))\n",
    "\n",
    "    # Add diverging colormap from red to blue\n",
    "    cmap = sns.diverging_palette(250, 10, as_cmap=True)\n",
    "\n",
    "    # Draw correlation plot with or without duplicates\n",
    "    if dropDuplicates:\n",
    "        sns.heatmap(df, mask=mask, cmap=cmap, \n",
    "                square=True,\n",
    "                linewidth=.5, cbar_kws={\"shrink\": .5}, ax=ax)\n",
    "        plt.xticks(rotation = 90)\n",
    "    else:\n",
    "        sns.heatmap(df, cmap=cmap, \n",
    "                square=True,\n",
    "                linewidth=.5, cbar_kws={\"shrink\": .5}, ax=ax)\n",
    "        plt.xticks(rotation = 90)"
   ]
  },
  {
   "cell_type": "code",
   "execution_count": 83,
   "metadata": {},
   "outputs": [
    {
     "data": {
      "image/png": "[encoded data removed]",
      "text/plain": [
       "<Figure size 1440x720 with 2 Axes>"
      ]
     },
     "metadata": {},
     "output_type": "display_data"
    }
   ],
   "source": [
    "import seaborn as sns\n",
    "#Plot the correlatiojn heatmap with the data w/out dummies\n",
    "CorrMtx(df.corr(),dropDuplicates = True)"
   ]
  },
  {
   "cell_type": "code",
   "execution_count": 42,
   "metadata": {},
   "outputs": [],
   "source": [
    "x = df\n",
    "y = labels"
   ]
  },
  {
   "cell_type": "markdown",
   "metadata": {},
   "source": [
    "#### Train test split and SMOTE"
   ]
  },
  {
   "cell_type": "code",
   "execution_count": 43,
   "metadata": {},
   "outputs": [],
   "source": [
    "from sklearn.model_selection import train_test_split\n",
    "x_train, x_test, y_train, y_test = train_test_split(x,y, test_size = .2, random_state = 42)"
   ]
  },
  {
   "cell_type": "code",
   "execution_count": 44,
   "metadata": {},
   "outputs": [
    {
     "name": "stdout",
     "output_type": "stream",
     "text": [
      "0.0    1067\n",
      "1.0     558\n",
      "Name: rating, dtype: int64\n",
      "1.0    848\n",
      "0.0    848\n",
      "dtype: int64\n"
     ]
    },
    {
     "name": "stderr",
     "output_type": "stream",
     "text": [
      "/Users/fabricemesidor/anaconda3/lib/python3.7/site-packages/sklearn/utils/validation.py:724: DataConversionWarning: A column-vector y was passed when a 1d array was expected. Please change the shape of y to (n_samples, ), for example using ravel().\n",
      "  y = column_or_1d(y, warn=True)\n"
     ]
    }
   ],
   "source": [
    "print(y.rating.value_counts()) #Previous original class distribution\n",
    "smote = SMOTE()\n",
    "x_train_resampled, y_train_resampled = smote.fit_sample(x_train, y_train) \n",
    "print(pd.Series(y_train_resampled).value_counts()) #Preview synthetic sample class distribution"
   ]
  },
  {
   "cell_type": "markdown",
   "metadata": {},
   "source": [
    "#### Helpers and Dummy"
   ]
  },
  {
   "cell_type": "code",
   "execution_count": 45,
   "metadata": {},
   "outputs": [],
   "source": [
    "from sklearn.metrics import classification_report\n",
    "from sklearn.model_selection import GridSearchCV\n",
    "from sklearn.model_selection import cross_val_score\n",
    "from sklearn.ensemble import AdaBoostClassifier, GradientBoostingClassifier\n",
    "from sklearn.metrics import accuracy_score, f1_score, confusion_matrix, classification_report, precision_score, recall_score\n",
    "import xgboost as xgb\n",
    "from sklearn.tree import DecisionTreeClassifier "
   ]
  },
  {
   "cell_type": "code",
   "execution_count": 46,
   "metadata": {},
   "outputs": [],
   "source": [
    "def print_metrics(labels, preds):\n",
    "    print(\"Precision Score: {}\".format(precision_score(labels, preds)))\n",
    "    print(\"Recall Score: {}\".format(recall_score(labels, preds)))\n",
    "    print(\"Accuracy Score: {}\".format(accuracy_score(labels, preds)))\n",
    "    print(\"F1 Score: {}\".format(f1_score(labels, preds)))"
   ]
  },
  {
   "cell_type": "code",
   "execution_count": 47,
   "metadata": {},
   "outputs": [
    {
     "name": "stdout",
     "output_type": "stream",
     "text": [
      "Precision Score: 0.36363636363636365\n",
      "Recall Score: 0.5660377358490566\n",
      "Accuracy Score: 0.5353846153846153\n",
      "F1 Score: 0.44280442804428044\n"
     ]
    }
   ],
   "source": [
    "from sklearn.dummy import DummyClassifier\n",
    "\n",
    "dummy = DummyClassifier(strategy = 'uniform')\n",
    "dummy.fit(x_train_resampled, y_train_resampled)\n",
    "dummypred = dummy.predict(x_test)\n",
    "print_metrics(y_test, dummypred)"
   ]
  },
  {
   "cell_type": "markdown",
   "metadata": {},
   "source": [
    "#### Logistic"
   ]
  },
  {
   "cell_type": "code",
   "execution_count": 85,
   "metadata": {},
   "outputs": [
    {
     "name": "stdout",
     "output_type": "stream",
     "text": [
      "LOGISTIC\n",
      "\n",
      "------------------------------\n",
      "Precision Score: 0.4178082191780822\n",
      "Recall Score: 0.5754716981132075\n",
      "Accuracy Score: 0.6\n",
      "F1 Score: 0.48412698412698413\n"
     ]
    },
    {
     "name": "stderr",
     "output_type": "stream",
     "text": [
      "/Users/fabricemesidor/anaconda3/lib/python3.7/site-packages/sklearn/linear_model/logistic.py:432: FutureWarning: Default solver will be changed to 'lbfgs' in 0.22. Specify a solver to silence this warning.\n",
      "  FutureWarning)\n"
     ]
    }
   ],
   "source": [
    "# #1 fit a predict a logistic regression and show metrics\n",
    "print('LOGISTIC\\n')\n",
    "print('-'*30)\n",
    "\n",
    "logr = LogisticRegression()\n",
    "logr.fit(x_train_resampled, y_train_resampled)\n",
    "test_preds5=logr.predict(x_test)\n",
    "\n",
    "print_metrics(y_test, test_preds5)"
   ]
  },
  {
   "cell_type": "markdown",
   "metadata": {},
   "source": [
    "#### KNN"
   ]
  },
  {
   "cell_type": "code",
   "execution_count": 56,
   "metadata": {},
   "outputs": [
    {
     "name": "stdout",
     "output_type": "stream",
     "text": [
      "Precision Score: 0.3693181818181818\n",
      "Recall Score: 0.6132075471698113\n",
      "Accuracy Score: 0.5323076923076923\n",
      "F1 Score: 0.46099290780141844\n"
     ]
    }
   ],
   "source": [
    "from sklearn.neighbors import KNeighborsClassifier\n",
    "\n",
    "knn = KNeighborsClassifier(n_neighbors=8)\n",
    "from sklearn.metrics import precision_score, recall_score, accuracy_score, f1_score\n",
    "knnfit = knn.fit(x_train_resampled, y_train_resampled)\n",
    "test_preds5 = knn.predict(x_test)\n",
    "def print_metrics(labels, preds):\n",
    "    print(\"Precision Score: {}\".format(precision_score(labels, preds)))\n",
    "    print(\"Recall Score: {}\".format(recall_score(labels, preds)))\n",
    "    print(\"Accuracy Score: {}\".format(accuracy_score(labels, preds)))\n",
    "    print(\"F1 Score: {}\".format(f1_score(labels, preds)))\n",
    "    \n",
    "print_metrics(y_test, test_preds5)"
   ]
  },
  {
   "cell_type": "markdown",
   "metadata": {},
   "source": [
    "#### Decision Tree"
   ]
  },
  {
   "cell_type": "code",
   "execution_count": 57,
   "metadata": {},
   "outputs": [],
   "source": [
    "clf= DecisionTreeClassifier(criterion='entropy')\n",
    "clf.fit(x_train_resampled,y_train_resampled) \n",
    "dtree_pred = clf.predict(x_test)"
   ]
  },
  {
   "cell_type": "code",
   "execution_count": 58,
   "metadata": {},
   "outputs": [
    {
     "name": "stdout",
     "output_type": "stream",
     "text": [
      "Precision Score: 0.417910447761194\n",
      "Recall Score: 0.5283018867924528\n",
      "Accuracy Score: 0.6061538461538462\n",
      "F1 Score: 0.4666666666666667\n"
     ]
    }
   ],
   "source": [
    "print_metrics(y_test,dtree_pred)"
   ]
  },
  {
   "cell_type": "markdown",
   "metadata": {},
   "source": [
    "#### Bagging"
   ]
  },
  {
   "cell_type": "code",
   "execution_count": 59,
   "metadata": {},
   "outputs": [],
   "source": [
    "bagged_tree =  BaggingClassifier(DecisionTreeClassifier(criterion='gini', max_depth=5), n_estimators=20)\n",
    "clf = bagged_tree.fit(x_train_resampled, y_train_resampled)\n",
    "bagged_pred = bagged_tree.predict(x_test)"
   ]
  },
  {
   "cell_type": "code",
   "execution_count": 60,
   "metadata": {},
   "outputs": [
    {
     "name": "stdout",
     "output_type": "stream",
     "text": [
      "              precision    recall  f1-score   support\n",
      "\n",
      "         0.0       0.73      0.64      0.68       219\n",
      "         1.0       0.40      0.50      0.45       106\n",
      "\n",
      "    accuracy                           0.60       325\n",
      "   macro avg       0.57      0.57      0.57       325\n",
      "weighted avg       0.62      0.60      0.61       325\n",
      "\n"
     ]
    }
   ],
   "source": [
    "print(classification_report(y_test, bagged_pred))"
   ]
  },
  {
   "cell_type": "markdown",
   "metadata": {},
   "source": [
    "#### Random Forest"
   ]
  },
  {
   "cell_type": "code",
   "execution_count": 61,
   "metadata": {},
   "outputs": [
    {
     "name": "stdout",
     "output_type": "stream",
     "text": [
      "[[154  65]\n",
      " [ 60  46]]\n",
      "              precision    recall  f1-score   support\n",
      "\n",
      "         0.0       0.72      0.70      0.71       219\n",
      "         1.0       0.41      0.43      0.42       106\n",
      "\n",
      "    accuracy                           0.62       325\n",
      "   macro avg       0.57      0.57      0.57       325\n",
      "weighted avg       0.62      0.62      0.62       325\n",
      "\n"
     ]
    }
   ],
   "source": [
    "forest = RandomForestClassifier(n_estimators=100, max_depth= 8, max_leaf_nodes = 8)\n",
    "forest.fit(x_train_resampled, y_train_resampled)\n",
    "\n",
    "RFpred = forest.predict(x_test)\n",
    "print(confusion_matrix(y_test, RFpred))\n",
    "print(classification_report(y_test, RFpred))"
   ]
  },
  {
   "cell_type": "markdown",
   "metadata": {},
   "source": [
    "#### Adaboost"
   ]
  },
  {
   "cell_type": "code",
   "execution_count": 62,
   "metadata": {},
   "outputs": [],
   "source": [
    "adaboost_clf = AdaBoostClassifier()\n",
    "gbt_clf = GradientBoostingClassifier(learning_rate =.02)"
   ]
  },
  {
   "cell_type": "code",
   "execution_count": 63,
   "metadata": {},
   "outputs": [
    {
     "data": {
      "text/plain": [
       "AdaBoostClassifier(algorithm='SAMME.R', base_estimator=None, learning_rate=1.0,\n",
       "                   n_estimators=50, random_state=None)"
      ]
     },
     "execution_count": 63,
     "metadata": {},
     "output_type": "execute_result"
    }
   ],
   "source": [
    "adaboost_clf.fit(x_train_resampled, y_train_resampled)"
   ]
  },
  {
   "cell_type": "code",
   "execution_count": 64,
   "metadata": {},
   "outputs": [
    {
     "data": {
      "text/plain": [
       "GradientBoostingClassifier(criterion='friedman_mse', init=None,\n",
       "                           learning_rate=0.02, loss='deviance', max_depth=3,\n",
       "                           max_features=None, max_leaf_nodes=None,\n",
       "                           min_impurity_decrease=0.0, min_impurity_split=None,\n",
       "                           min_samples_leaf=1, min_samples_split=2,\n",
       "                           min_weight_fraction_leaf=0.0, n_estimators=100,\n",
       "                           n_iter_no_change=None, presort='auto',\n",
       "                           random_state=None, subsample=1.0, tol=0.0001,\n",
       "                           validation_fraction=0.1, verbose=0,\n",
       "                           warm_start=False)"
      ]
     },
     "execution_count": 64,
     "metadata": {},
     "output_type": "execute_result"
    }
   ],
   "source": [
    "gbt_clf.fit(x_train_resampled, y_train_resampled)"
   ]
  },
  {
   "cell_type": "code",
   "execution_count": 65,
   "metadata": {},
   "outputs": [],
   "source": [
    "adaboost_train_preds = adaboost_clf.predict(x_train_resampled)\n",
    "adaboost_test_preds = adaboost_clf.predict(x_test)\n",
    "gbt_clf_train_preds = gbt_clf.predict(x_train_resampled)\n",
    "gbt_clf_test_preds = gbt_clf.predict(x_test)"
   ]
  },
  {
   "cell_type": "code",
   "execution_count": 66,
   "metadata": {},
   "outputs": [
    {
     "name": "stdout",
     "output_type": "stream",
     "text": [
      "Training Metrics\n",
      "Model: AdaBoost\n",
      "Accuracy: 0.7836084905660378\n",
      "F1-Score: 0.7836078134978812\n",
      "\n",
      "Model: Gradient Boosted Trees\n",
      "Accuracy: 0.8390330188679245\n",
      "F1-Score: 0.8387005410580156\n",
      "\n",
      "Testing Metrics\n",
      "Model: AdaBoost\n",
      "Accuracy: 0.5876923076923077\n",
      "F1-Score: 0.5455209550843213\n",
      "\n",
      "Model: Gradient Boosted Trees\n",
      "Accuracy: 0.5969230769230769\n",
      "F1-Score: 0.563445270443476\n"
     ]
    }
   ],
   "source": [
    "def display_acc_and_f1_score(true, preds, model_name):\n",
    "    acc = accuracy_score(true, preds)\n",
    "    f1 = f1_score(true, preds, average = 'macro')\n",
    "    print(\"Model: {}\".format(model_name))\n",
    "    print(\"Accuracy: {}\".format(acc))\n",
    "    print(\"F1-Score: {}\".format(f1))\n",
    "    \n",
    "print(\"Training Metrics\")\n",
    "display_acc_and_f1_score(y_train_resampled, adaboost_train_preds, model_name='AdaBoost')\n",
    "print(\"\")\n",
    "display_acc_and_f1_score(y_train_resampled, gbt_clf_train_preds, model_name='Gradient Boosted Trees')\n",
    "print(\"\")\n",
    "print(\"Testing Metrics\")\n",
    "display_acc_and_f1_score(y_test, adaboost_test_preds, model_name='AdaBoost')\n",
    "print(\"\")\n",
    "display_acc_and_f1_score(y_test, gbt_clf_test_preds, model_name='Gradient Boosted Trees')"
   ]
  },
  {
   "cell_type": "markdown",
   "metadata": {},
   "source": [
    "#### XGBoost"
   ]
  },
  {
   "cell_type": "code",
   "execution_count": 67,
   "metadata": {},
   "outputs": [],
   "source": [
    "clf = xgb.XGBClassifier()\n",
    "xgb = clf.fit(np.array(x_train_resampled), np.array(y_train_resampled))\n",
    "training_preds = clf.predict(np.array(x_train_resampled))\n",
    "xgb_preds = clf.predict(np.array(x_test))\n",
    "training_accuracy = accuracy_score(np.array(y_train_resampled), training_preds)\n",
    "val_accuracy = accuracy_score(np.array(y_test), xgb_preds)"
   ]
  },
  {
   "cell_type": "code",
   "execution_count": 68,
   "metadata": {
    "scrolled": false
   },
   "outputs": [
    {
     "name": "stdout",
     "output_type": "stream",
     "text": [
      "              precision    recall  f1-score   support\n",
      "\n",
      "         0.0       0.72      0.74      0.73       219\n",
      "         1.0       0.43      0.42      0.42       106\n",
      "\n",
      "    accuracy                           0.63       325\n",
      "   macro avg       0.58      0.58      0.58       325\n",
      "weighted avg       0.63      0.63      0.63       325\n",
      "\n"
     ]
    }
   ],
   "source": [
    "print(classification_report(y_test, xgb_preds))"
   ]
  },
  {
   "cell_type": "code",
   "execution_count": 89,
   "metadata": {},
   "outputs": [],
   "source": [
    "from xgboost import XGBClassifier\n",
    "from tpot import TPOTClassifier, TPOTRegressor\n",
    "from deap.gp import Primitive"
   ]
  },
  {
   "cell_type": "code",
   "execution_count": 97,
   "metadata": {},
   "outputs": [],
   "source": [
    "params = {'max_depth': np.arange(1,20,1),\n",
    "          'learning_rate': np.arange(0.001,0.1,0.005),\n",
    "          'n_estimators': np.arange(1,20,1),\n",
    "          'nthread':[6],\n",
    "          'gamma':np.arange(0.00001,0.1,0.00001),\n",
    "          'subsample':np.arange(0.1,2,0.1),\n",
    "          'reg_lambda': np.arange(0.1,20,1),\n",
    "          'reg_alpha': np.arange(1,20,1),\n",
    "          'min_child_weight': np.arange(1,20,1),\n",
    "          'gamma': np.arange(0.1,2,0.1),\n",
    "          'colsample_bytree': np.arange(0.1,2,0.1),\n",
    "          'colsample_bylevel': np.arange(0.1,2,0.1)\n",
    "         }"
   ]
  },
  {
   "cell_type": "code",
   "execution_count": 98,
   "metadata": {},
   "outputs": [
    {
     "data": {
      "application/vnd.jupyter.widget-view+json": {
       "model_id": "",
       "version_major": 2,
       "version_minor": 0
      },
      "text/plain": [
       "HBox(children=(IntProgress(value=0, description='Optimization Progress', max=5500, style=ProgressStyle(descrip…"
      ]
     },
     "metadata": {},
     "output_type": "display_data"
    },
    {
     "name": "stdout",
     "output_type": "stream",
     "text": [
      "Generation 1 - Current best internal CV score: 0.7153641456582632\n",
      "Generation 2 - Current best internal CV score: 0.7153641456582632\n",
      "Generation 3 - Current best internal CV score: 0.7171008403361345\n",
      "Generation 4 - Current best internal CV score: 0.7171008403361345\n",
      "Generation 5 - Current best internal CV score: 0.7171008403361345\n",
      "Generation 6 - Current best internal CV score: 0.7195238095238096\n",
      "Generation 7 - Current best internal CV score: 0.7318977591036415\n",
      "Generation 8 - Current best internal CV score: 0.7319397759103641\n",
      "Generation 9 - Current best internal CV score: 0.7319397759103641\n",
      "Generation 10 - Current best internal CV score: 0.7319397759103641\n",
      "Generation 11 - Current best internal CV score: 0.7359943977591037\n",
      "Generation 12 - Current best internal CV score: 0.737219887955182\n",
      "Generation 13 - Current best internal CV score: 0.737219887955182\n",
      "Generation 14 - Current best internal CV score: 0.737219887955182\n",
      "Generation 15 - Current best internal CV score: 0.737219887955182\n",
      "Generation 16 - Current best internal CV score: 0.7519467787114846\n",
      "Generation 17 - Current best internal CV score: 0.7519467787114846\n",
      "Generation 18 - Current best internal CV score: 0.7519467787114846\n",
      "Generation 19 - Current best internal CV score: 0.7566456582633053\n",
      "Generation 20 - Current best internal CV score: 0.7566456582633053\n",
      "\n",
      "Best pipeline: XGBClassifier(CombineDFs(CombineDFs(input_matrix, CombineDFs(input_matrix, input_matrix)), input_matrix), colsample_bylevel=1.0, colsample_bytree=0.1, gamma=1.4000000000000001, learning_rate=0.091, max_depth=13, min_child_weight=2, n_estimators=16, nthread=6, reg_alpha=1, reg_lambda=1.1, subsample=1.0)\n"
     ]
    },
    {
     "data": {
      "text/plain": [
       "TPOTClassifier(config_dict={'xgboost.XGBClassifier': {'colsample_bylevel': array([0.1, 0.2, 0.3, 0.4, 0.5, 0.6, 0.7, 0.8, 0.9, 1. , 1.1, 1.2, 1.3,\n",
       "       1.4, 1.5, 1.6, 1.7, 1.8, 1.9]),\n",
       "                                                      'colsample_bytree': array([0.1, 0.2, 0.3, 0.4, 0.5, 0.6, 0.7, 0.8, 0.9, 1. , 1.1, 1.2, 1.3,\n",
       "       1.4, 1.5, 1.6, 1.7, 1.8, 1.9]),\n",
       "                                                      'gamma': array([0.1, 0.2, 0.3, 0.4, 0.5, 0.6, 0.7, 0.8, 0.9, 1. , 1.1, 1.2, 1.3,\n",
       "       1.4, 1.5, 1.6, 1.7, 1.8, 1.9]...\n",
       "       1.4, 1.5, 1.6, 1.7, 1.8, 1.9])}},\n",
       "               crossover_rate=0.1, cv=10, disable_update_check=False,\n",
       "               early_stop=8, generations=20, max_eval_time_mins=5,\n",
       "               max_time_mins=None, memory=None, mutation_rate=0.9, n_jobs=1,\n",
       "               offspring_size=250, periodic_checkpoint_folder=None,\n",
       "               population_size=500, random_state=None, scoring='accuracy',\n",
       "               subsample=1.0, template=None, use_dask=False, verbosity=2,\n",
       "               warm_start=False)"
      ]
     },
     "execution_count": 98,
     "metadata": {},
     "output_type": "execute_result"
    }
   ],
   "source": [
    "tpot_classifier = TPOTClassifier(generations=20, population_size=500, offspring_size=250,\n",
    "                                verbosity=2, early_stop=8,\n",
    "                                config_dict={'xgboost.XGBClassifier': params}, cv = 10, scoring = 'accuracy')\n",
    "tpot_classifier.fit(x_train_resampled, y_train_resampled)"
   ]
  },
  {
   "cell_type": "code",
   "execution_count": 99,
   "metadata": {},
   "outputs": [],
   "source": [
    "args = {}\n",
    "for arg in tpot_classifier._optimized_pipeline:\n",
    "    if type(arg) != Primitive:\n",
    "        try:\n",
    "            if arg.value.split('__')[1].split('=')[0] in ['max_depth', 'n_estimators', 'nthread','min_child_weigh']:\n",
    "                args[arg.value.split('__')[1].split('=')[0]] = int(arg.value.split('__')[1].split('=')[1])\n",
    "            else:\n",
    "                args[arg.value.split('__')[1].split('=')[0]] = float(arg.value.split('__')[1].split('=')[1])\n",
    "        except:\n",
    "            pass\n",
    "params = args"
   ]
  },
  {
   "cell_type": "code",
   "execution_count": 100,
   "metadata": {},
   "outputs": [],
   "source": [
    "xgb = XGBClassifier(**params)\n",
    "xgb_tp = xgb.fit(x_train_resampled, y_train_resampled)"
   ]
  },
  {
   "cell_type": "code",
   "execution_count": 103,
   "metadata": {},
   "outputs": [],
   "source": [
    "training_preds = xgb.predict(np.array(x_train_resampled))\n",
    "xgb_tp_preds = xgb.predict(np.array(x_test))\n",
    "training_accuracy = accuracy_score(np.array(y_train_resampled), training_preds)\n",
    "val_accuracy = accuracy_score(np.array(y_test), xgb_tp_preds)"
   ]
  },
  {
   "cell_type": "code",
   "execution_count": 104,
   "metadata": {},
   "outputs": [
    {
     "name": "stdout",
     "output_type": "stream",
     "text": [
      "              precision    recall  f1-score   support\n",
      "\n",
      "         0.0       0.72      0.74      0.73       219\n",
      "         1.0       0.43      0.41      0.42       106\n",
      "\n",
      "    accuracy                           0.63       325\n",
      "   macro avg       0.57      0.57      0.57       325\n",
      "weighted avg       0.63      0.63      0.63       325\n",
      "\n"
     ]
    }
   ],
   "source": [
    "print(classification_report(y_test, xgb_tp_preds))"
   ]
  },
  {
   "cell_type": "code",
   "execution_count": null,
   "metadata": {},
   "outputs": [],
   "source": []
  },
  {
   "cell_type": "markdown",
   "metadata": {},
   "source": [
    "#### SVM"
   ]
  },
  {
   "cell_type": "code",
   "execution_count": 75,
   "metadata": {},
   "outputs": [],
   "source": [
    "from sklearn import svm\n",
    "\n",
    "clf = svm.SVC(kernel='linear', C=5)\n",
    "clf.fit(np.array(x_train_resampled), np.array(y_train_resampled))\n",
    "svcy_pred = clf.predict(x_test)"
   ]
  },
  {
   "cell_type": "code",
   "execution_count": 76,
   "metadata": {},
   "outputs": [
    {
     "name": "stdout",
     "output_type": "stream",
     "text": [
      "              precision    recall  f1-score   support\n",
      "\n",
      "         0.0       0.77      0.58      0.66       219\n",
      "         1.0       0.42      0.63      0.51       106\n",
      "\n",
      "    accuracy                           0.60       325\n",
      "   macro avg       0.59      0.61      0.58       325\n",
      "weighted avg       0.65      0.60      0.61       325\n",
      "\n"
     ]
    }
   ],
   "source": [
    "print(classification_report(y_test,svcy_pred))"
   ]
  },
  {
   "cell_type": "code",
   "execution_count": null,
   "metadata": {},
   "outputs": [],
   "source": []
  }
 ],
 "metadata": {
  "kernelspec": {
   "display_name": "Python 3",
   "language": "python",
   "name": "python3"
  },
  "language_info": {
   "codemirror_mode": {
    "name": "ipython",
    "version": 3
   },
   "file_extension": ".py",
   "mimetype": "text/x-python",
   "name": "python",
   "nbconvert_exporter": "python",
   "pygments_lexer": "ipython3",
   "version": "3.7.3"
  },
  "toc": {
   "base_numbering": 1,
   "nav_menu": {},
   "number_sections": true,
   "sideBar": true,
   "skip_h1_title": false,
   "title_cell": "Table of Contents",
   "title_sidebar": "Contents",
   "toc_cell": false,
   "toc_position": {
    "height": "calc(100% - 180px)",
    "left": "10px",
    "top": "150px",
    "width": "223.636px"
   },
   "toc_section_display": true,
   "toc_window_display": true
  }
 },
 "nbformat": 4,
 "nbformat_minor": 2
}
