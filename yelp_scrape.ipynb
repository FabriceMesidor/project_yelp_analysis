{
 "cells": [
  {
   "cell_type": "code",
   "execution_count": 8,
   "metadata": {},
   "outputs": [],
   "source": [
    "client_id = 'hQmW_N-oAuBKvmHmmF5Ltg'\n",
    "\n",
    "api_key = '-xfnZF7NwPGrMpJUEY99Oc9hL_zP4B8l5oB7OYkTsHsl1FsfAteGNT_uHWay_CFD_a90yoD7bvqgugeJmQq_iyu0K9Ks1n8_zzEiskRRQQHdO3xXFemvf2loxA07XXYx'"
   ]
  },
  {
   "cell_type": "code",
   "execution_count": 18,
   "metadata": {},
   "outputs": [],
   "source": [
    "rests = pd.read_excel('Restaurant_1.xlsx')"
   ]
  },
  {
   "cell_type": "code",
   "execution_count": null,
   "metadata": {},
   "outputs": [],
   "source": [
    "import tqdm\n",
    "import requests\n",
    "import time\n",
    "import json\n",
    "import pandas as pd"
   ]
  },
  {
   "cell_type": "code",
   "execution_count": null,
   "metadata": {},
   "outputs": [],
   "source": [
    "restslists = list(rests['restaurant_id'])"
   ]
  },
  {
   "cell_type": "code",
   "execution_count": 28,
   "metadata": {},
   "outputs": [],
   "source": [
    "headers = {'Authorization': 'Bearer {}'.format(api_key)}\n",
    "ids = restslists"
   ]
  },
  {
   "cell_type": "code",
   "execution_count": null,
   "metadata": {},
   "outputs": [],
   "source": [
    "for idea in ids:\n",
    "    runs = 0\n",
    "    rest_results = []\n",
    "    url = \"https://api.yelp.com/v3/businesses/\" + idea + \"/reviews\"\n",
    "    while runs < 1000:\n",
    "        req = requests.get(url, headers=headers)\n",
    "        parsed = json.loads(req.text)\n",
    "        reviews = parsed[\"reviews\"]\n",
    "        rest_results.append(reviews)\n",
    "        time.sleep(5) # do not need this for Yelp\n",
    "        runs += 1"
   ]
  },
  {
   "cell_type": "code",
   "execution_count": 12,
   "metadata": {
    "scrolled": true
   },
   "outputs": [
    {
     "name": "stdout",
     "output_type": "stream",
     "text": [
      "{\n",
      "    \"reviews\": [\n",
      "        {\n",
      "            \"id\": \"tdUdTxukHihL20Z3p9DULg\",\n",
      "            \"url\": \"https://www.yelp.com/biz/olio-e-pi%C3%BA-new-york-3?adjust_creative=hQmW_N-oAuBKvmHmmF5Ltg&hrid=tdUdTxukHihL20Z3p9DULg&utm_campaign=yelp_api_v3&utm_medium=api_v3_business_reviews&utm_source=hQmW_N-oAuBKvmHmmF5Ltg\",\n",
      "            \"text\": \"I'm staying in the neighborhood for a few days and wanted to find something local to enjoy for dinner on my last night. I'd walked by here a few times and...\",\n",
      "            \"rating\": 5,\n",
      "            \"time_created\": \"2019-09-26 15:15:05\",\n",
      "            \"user\": {\n",
      "                \"id\": \"ubL-T6vPwbhCDzO-zYzcgQ\",\n",
      "                \"profile_url\": \"https://www.yelp.com/user_details?userid=ubL-T6vPwbhCDzO-zYzcgQ\",\n",
      "                \"image_url\": \"https://s3-media1.fl.yelpcdn.com/photo/daievysaSXOQLCRD28X-2A/o.jpg\",\n",
      "                \"name\": \"James S.\"\n",
      "            }\n",
      "        },\n",
      "        {\n",
      "            \"id\": \"n13kgxkR_sv57ud8Gx-x5g\",\n",
      "            \"url\": \"https://www.yelp.com/biz/olio-e-pi%C3%BA-new-york-3?adjust_creative=hQmW_N-oAuBKvmHmmF5Ltg&hrid=n13kgxkR_sv57ud8Gx-x5g&utm_campaign=yelp_api_v3&utm_medium=api_v3_business_reviews&utm_source=hQmW_N-oAuBKvmHmmF5Ltg\",\n",
      "            \"text\": \"We came here for our anniversary celebration, it was a weekday night. \\nWe got there early and had 2 cocktails each. They were all delicious!  and the bar...\",\n",
      "            \"rating\": 4,\n",
      "            \"time_created\": \"2019-09-25 11:30:55\",\n",
      "            \"user\": {\n",
      "                \"id\": \"aibCm9s2EFQ_UinrFUOEnQ\",\n",
      "                \"profile_url\": \"https://www.yelp.com/user_details?userid=aibCm9s2EFQ_UinrFUOEnQ\",\n",
      "                \"image_url\": \"https://s3-media1.fl.yelpcdn.com/photo/ExLNXvAcsrmIEi1JajOaZw/o.jpg\",\n",
      "                \"name\": \"Riki T.\"\n",
      "            }\n",
      "        },\n",
      "        {\n",
      "            \"id\": \"wp1cKAbQq8BLqny_3-0r8Q\",\n",
      "            \"url\": \"https://www.yelp.com/biz/olio-e-pi%C3%BA-new-york-3?adjust_creative=hQmW_N-oAuBKvmHmmF5Ltg&hrid=wp1cKAbQq8BLqny_3-0r8Q&utm_campaign=yelp_api_v3&utm_medium=api_v3_business_reviews&utm_source=hQmW_N-oAuBKvmHmmF5Ltg\",\n",
      "            \"text\": \"Beautiful place\\nPlenty of outdoor and indoor space\\nThe host is very kind and helped us in. \\nIt's a open kitchen and bar is very beautiful.\\nVintage art on...\",\n",
      "            \"rating\": 5,\n",
      "            \"time_created\": \"2019-09-22 14:32:21\",\n",
      "            \"user\": {\n",
      "                \"id\": \"7p_yQoCnAdx81jpb_K8L4A\",\n",
      "                \"profile_url\": \"https://www.yelp.com/user_details?userid=7p_yQoCnAdx81jpb_K8L4A\",\n",
      "                \"image_url\": \"https://s3-media4.fl.yelpcdn.com/photo/cLamTS41s0yl1wN8iiy9Kw/o.jpg\",\n",
      "                \"name\": \"David N.\"\n",
      "            }\n",
      "        }\n",
      "    ],\n",
      "    \"total\": 1952,\n",
      "    \"possible_languages\": [\n",
      "        \"fr\",\n",
      "        \"en\",\n",
      "        \"it\",\n",
      "        \"es\",\n",
      "        \"ja\"\n",
      "    ]\n",
      "}\n"
     ]
    }
   ],
   "source": [
    "print(json.dumps(parsed, indent=4))"
   ]
  },
  {
   "cell_type": "code",
   "execution_count": 13,
   "metadata": {},
   "outputs": [],
   "source": [
    "\n",
    "reviews = parsed[\"reviews\"]\n"
   ]
  },
  {
   "cell_type": "code",
   "execution_count": 14,
   "metadata": {},
   "outputs": [
    {
     "name": "stdout",
     "output_type": "stream",
     "text": [
      "User: James S. Rating: 5 Review: I'm staying in the neighborhood for a few days and wanted to find something local to enjoy for dinner on my last night. I'd walked by here a few times and... \n",
      "\n",
      "User: Riki T. Rating: 4 Review: We came here for our anniversary celebration, it was a weekday night. \n",
      "We got there early and had 2 cocktails each. They were all delicious!  and the bar... \n",
      "\n",
      "User: David N. Rating: 5 Review: Beautiful place\n",
      "Plenty of outdoor and indoor space\n",
      "The host is very kind and helped us in. \n",
      "It's a open kitchen and bar is very beautiful.\n",
      "Vintage art on... \n",
      "\n"
     ]
    }
   ],
   "source": [
    "for review in reviews:\n",
    "    print(\"User:\", review[\"user\"][\"name\"], \"Rating:\", review[\"rating\"], \"Review:\", review[\"text\"], \"\\n\")\n",
    "    "
   ]
  },
  {
   "cell_type": "code",
   "execution_count": 19,
   "metadata": {},
   "outputs": [],
   "source": [
    "reviews = pd.DataFrame.from_dict(parsed['reviews'])"
   ]
  },
  {
   "cell_type": "code",
   "execution_count": 20,
   "metadata": {},
   "outputs": [
    {
     "data": {
      "text/html": [
       "<div>\n",
       "<style scoped>\n",
       "    .dataframe tbody tr th:only-of-type {\n",
       "        vertical-align: middle;\n",
       "    }\n",
       "\n",
       "    .dataframe tbody tr th {\n",
       "        vertical-align: top;\n",
       "    }\n",
       "\n",
       "    .dataframe thead th {\n",
       "        text-align: right;\n",
       "    }\n",
       "</style>\n",
       "<table border=\"1\" class=\"dataframe\">\n",
       "  <thead>\n",
       "    <tr style=\"text-align: right;\">\n",
       "      <th></th>\n",
       "      <th>Unnamed: 0</th>\n",
       "      <th>restaurant_id</th>\n",
       "      <th>restaurant_name</th>\n",
       "      <th>price</th>\n",
       "      <th>rating</th>\n",
       "      <th>review_count</th>\n",
       "    </tr>\n",
       "  </thead>\n",
       "  <tbody>\n",
       "    <tr>\n",
       "      <th>0</th>\n",
       "      <td>0</td>\n",
       "      <td>ehUuSk5gPTCQmwS_ubgKRA</td>\n",
       "      <td>Upstate</td>\n",
       "      <td>$$</td>\n",
       "      <td>4.5</td>\n",
       "      <td>1784</td>\n",
       "    </tr>\n",
       "    <tr>\n",
       "      <th>1</th>\n",
       "      <td>1</td>\n",
       "      <td>ETgJqJHV7BW6pIr9Ox74sA</td>\n",
       "      <td>Amélie</td>\n",
       "      <td>$$</td>\n",
       "      <td>4.5</td>\n",
       "      <td>2565</td>\n",
       "    </tr>\n",
       "    <tr>\n",
       "      <th>2</th>\n",
       "      <td>2</td>\n",
       "      <td>jjJc_CrkB2HodEinB6cWww</td>\n",
       "      <td>LoveMama</td>\n",
       "      <td>$$</td>\n",
       "      <td>4.5</td>\n",
       "      <td>4570</td>\n",
       "    </tr>\n",
       "    <tr>\n",
       "      <th>3</th>\n",
       "      <td>3</td>\n",
       "      <td>C2o3Iw-DXjoUJFgQIbiqkQ</td>\n",
       "      <td>BoCaphe</td>\n",
       "      <td>$$</td>\n",
       "      <td>4.0</td>\n",
       "      <td>1288</td>\n",
       "    </tr>\n",
       "    <tr>\n",
       "      <th>4</th>\n",
       "      <td>4</td>\n",
       "      <td>CwOAKJdX8AMz5iAoA-ZEuA</td>\n",
       "      <td>Uglyduckling</td>\n",
       "      <td>$$</td>\n",
       "      <td>4.0</td>\n",
       "      <td>458</td>\n",
       "    </tr>\n",
       "  </tbody>\n",
       "</table>\n",
       "</div>"
      ],
      "text/plain": [
       "   Unnamed: 0           restaurant_id restaurant_name price  rating  \\\n",
       "0           0  ehUuSk5gPTCQmwS_ubgKRA         Upstate    $$     4.5   \n",
       "1           1  ETgJqJHV7BW6pIr9Ox74sA          Amélie    $$     4.5   \n",
       "2           2  jjJc_CrkB2HodEinB6cWww        LoveMama    $$     4.5   \n",
       "3           3  C2o3Iw-DXjoUJFgQIbiqkQ         BoCaphe    $$     4.0   \n",
       "4           4  CwOAKJdX8AMz5iAoA-ZEuA    Uglyduckling    $$     4.0   \n",
       "\n",
       "   review_count  \n",
       "0          1784  \n",
       "1          2565  \n",
       "2          4570  \n",
       "3          1288  \n",
       "4           458  "
      ]
     },
     "execution_count": 20,
     "metadata": {},
     "output_type": "execute_result"
    }
   ],
   "source": [
    "rests.head()"
   ]
  },
  {
   "cell_type": "code",
   "execution_count": null,
   "metadata": {},
   "outputs": [],
   "source": []
  }
 ],
 "metadata": {
  "kernelspec": {
   "display_name": "Python 3",
   "language": "python",
   "name": "python3"
  },
  "language_info": {
   "codemirror_mode": {
    "name": "ipython",
    "version": 3
   },
   "file_extension": ".py",
   "mimetype": "text/x-python",
   "name": "python",
   "nbconvert_exporter": "python",
   "pygments_lexer": "ipython3",
   "version": "3.7.3"
  },
  "toc": {
   "base_numbering": 1,
   "nav_menu": {},
   "number_sections": true,
   "sideBar": true,
   "skip_h1_title": false,
   "title_cell": "Table of Contents",
   "title_sidebar": "Contents",
   "toc_cell": false,
   "toc_position": {},
   "toc_section_display": true,
   "toc_window_display": false
  }
 },
 "nbformat": 4,
 "nbformat_minor": 2
}
